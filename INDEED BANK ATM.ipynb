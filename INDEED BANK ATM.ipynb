{
 "cells": [
  {
   "cell_type": "code",
   "execution_count": 1,
   "id": "af6e02c5",
   "metadata": {},
   "outputs": [
    {
     "name": "stdout",
     "output_type": "stream",
     "text": [
      "Welcome to INDED BANK ATM\n",
      "YOU ENTERED CORRECT PIN \n",
      "\n",
      "Please enter 1 to check you bank balance \n",
      "\n",
      "Please enter 2 to make a withdrawal \n",
      "\n",
      "Please enter 3 to pay in \n",
      "\n",
      "Please enter 4 to return card \n",
      "\n",
      "YOUR BALANCE IS 20000 \n",
      "\n",
      "Please enter 1 to check you bank balance \n",
      "\n",
      "Please enter 2 to make a withdrawal \n",
      "\n",
      "Please enter 3 to pay in \n",
      "\n",
      "Please enter 4 to return card \n",
      "\n"
     ]
    },
    {
     "ename": "ValueError",
     "evalue": "could not convert string to float: ''",
     "output_type": "error",
     "traceback": [
      "\u001b[1;31m---------------------------------------------------------------------------\u001b[0m",
      "\u001b[1;31mValueError\u001b[0m                                Traceback (most recent call last)",
      "Cell \u001b[1;32mIn[1], line 23\u001b[0m\n\u001b[0;32m     21\u001b[0m \u001b[38;5;28;01melif\u001b[39;00m option\u001b[38;5;241m==\u001b[39m\u001b[38;5;241m2\u001b[39m:\n\u001b[0;32m     22\u001b[0m     option2\u001b[38;5;241m=\u001b[39m(\u001b[38;5;124m'\u001b[39m\u001b[38;5;124mY\u001b[39m\u001b[38;5;124m'\u001b[39m)\n\u001b[1;32m---> 23\u001b[0m     withdrawal\u001b[38;5;241m=\u001b[39m\u001b[38;5;28;43mfloat\u001b[39;49m\u001b[43m(\u001b[49m\u001b[38;5;28;43minput\u001b[39;49m\u001b[43m(\u001b[49m\u001b[38;5;124;43m'\u001b[39;49m\u001b[38;5;124;43mHOW MUCH AMOUNT WOULD YOU LIKE TO WITHDRAW?\u001b[39;49m\u001b[38;5;124;43m'\u001b[39;49m\u001b[43m)\u001b[49m\u001b[43m)\u001b[49m\n\u001b[0;32m     24\u001b[0m     \u001b[38;5;28;01mif\u001b[39;00m withdrawal \u001b[38;5;129;01min\u001b[39;00m [\u001b[38;5;241m10\u001b[39m,\u001b[38;5;241m20\u001b[39m,\u001b[38;5;241m40\u001b[39m,\u001b[38;5;241m60\u001b[39m,\u001b[38;5;241m80\u001b[39m,\u001b[38;5;241m100\u001b[39m]:\n\u001b[0;32m     25\u001b[0m      balance\u001b[38;5;241m=\u001b[39m balance\u001b[38;5;241m-\u001b[39mwithdrawal\n",
      "\u001b[1;31mValueError\u001b[0m: could not convert string to float: ''"
     ]
    }
   ],
   "source": [
    "print('Welcome to INDED BANK ATM')\n",
    "restart=('Y')\n",
    "chances=3\n",
    "balance=20000\n",
    "while chances>=0:\n",
    "    pin=int(input('PLEASE ENTER YOU 4 DIGIT PIN:'))\n",
    "    if pin == (1234):\n",
    "        print('YOU ENTERED CORRECT PIN \\n')\n",
    "        while restart not in ('n','no','NO','N'):\n",
    "                print('Please enter 1 to check you bank balance \\n')\n",
    "                print('Please enter 2 to make a withdrawal \\n')\n",
    "                print('Please enter 3 to pay in \\n')\n",
    "                print('Please enter 4 to return card \\n')\n",
    "                option=int(input('WHAT WOULD YOU LIKE TO CHOSE?'))\n",
    "                if option==1:\n",
    "                    print('YOUR BALANCE IS', balance,'\\n')\n",
    "                    restart=input('WOULD YOU LIKE TO GO BACK?')\n",
    "                    if restart in ('n','no','NO','N'):\n",
    "                        print('THANK YOU')\n",
    "                        break\n",
    "                elif option==2:\n",
    "                    option2=('Y')\n",
    "                    withdrawal=float(input('HOW MUCH AMOUNT WOULD YOU LIKE TO WITHDRAW?'))\n",
    "                    if withdrawal in [10,20,40,60,80,100]:\n",
    "                     balance= balance-withdrawal\n",
    "                     print('\\nYOUR BALANCE IS NOW', balance)\n",
    "                     restart=input('WOULD YOU LIKE TO GO BACK?')\n",
    "                     if restart in  ('n','no','NO','N'):\n",
    "                        print('THANK YOU')\n",
    "                        break\n",
    "                    elif withdrawal != [10,20,40,60,80,100]:\n",
    "                        print('INVALID ACCOUNT ,PLEASE RE-TRY\\n')\n",
    "                        restart=('Y')\n",
    "                    elif withdrawal==1:\n",
    "                        withdrawal=float(input('PLEASE ENTER DESIRED AMOUNT:'))\n",
    "                elif option==3:\n",
    "                    pay_in=float(input('how much would you like to pay in?'))\n",
    "                    balance= balance + pay_in\n",
    "                    print('\\n YOUR BALANCE IS NOW', balance)\n",
    "                    restart=input('WOULD YOU LIKE TO GO BACK?')\n",
    "                    if restart in  ('n','no','NO','N'):\n",
    "                        print('THANK YOU')\n",
    "                        break\n",
    "                elif option==4:\n",
    "                    print('PLEASE ENTER A CORRECT NUMBER.....\\n')\n",
    "                    restart=('Y')\n",
    "                else: \n",
    "                    pin != ('1234')\n",
    "                    print('INCORRECT PASSWORD')\n",
    "                    chances=chances-1\n",
    "                    if chances == 0:\n",
    "                                print('\\nNO MORE TRIES')\n",
    "                                break\n",
    "                   "
   ]
  },
  {
   "cell_type": "code",
   "execution_count": null,
   "id": "b5e1fe81",
   "metadata": {},
   "outputs": [],
   "source": []
  }
 ],
 "metadata": {
  "kernelspec": {
   "display_name": "Python 3 (ipykernel)",
   "language": "python",
   "name": "python3"
  },
  "language_info": {
   "codemirror_mode": {
    "name": "ipython",
    "version": 3
   },
   "file_extension": ".py",
   "mimetype": "text/x-python",
   "name": "python",
   "nbconvert_exporter": "python",
   "pygments_lexer": "ipython3",
   "version": "3.11.3"
  }
 },
 "nbformat": 4,
 "nbformat_minor": 5
}
