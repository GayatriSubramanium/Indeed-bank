{
 "cells": [
  {
   "cell_type": "code",
   "execution_count": null,
   "id": "af6e02c5",
   "metadata": {},
   "outputs": [
    {
     "name": "stdout",
     "output_type": "stream",
     "text": [
      "Welcome to INDED BANK ATM\n",
      "PLEASE ENTER YOU 4 DIGIT PIN:1234\n",
      "YOU ENTERED CORRECT PIN \n",
      "\n",
      "Please enter 1 to check you bank balance \n",
      "\n",
      "Please enter 2 to make a withdrawal \n",
      "\n",
      "Please enter 3 to pay in \n",
      "\n",
      "Please enter 4 to return card \n",
      "\n",
      "WHAT WOULD YOU LIKE TO CHOSE?2\n",
      "HOW MUCH AMOUNT WOULD YOU LIKE TO WITHDRAW?1500.87\n",
      "INVALID ACCOUNT ,PLEASE RE-TRY\n",
      "\n",
      "Please enter 1 to check you bank balance \n",
      "\n",
      "Please enter 2 to make a withdrawal \n",
      "\n",
      "Please enter 3 to pay in \n",
      "\n",
      "Please enter 4 to return card \n",
      "\n"
     ]
    }
   ],
   "source": [
    "print('Welcome to INDED BANK ATM')\n",
    "restart=('Y')\n",
    "chances=3\n",
    "balance=20000\n",
    "while chances>=0:\n",
    "    pin=int(input('PLEASE ENTER YOU 4 DIGIT PIN:'))\n",
    "    if pin == (1234):\n",
    "        print('YOU ENTERED CORRECT PIN \\n')\n",
    "        while restart not in ('n','no','NO','N'):\n",
    "                print('Please enter 1 to check you bank balance \\n')\n",
    "                print('Please enter 2 to make a withdrawal \\n')\n",
    "                print('Please enter 3 to pay in \\n')\n",
    "                print('Please enter 4 to return card \\n')\n",
    "                option=int(input('WHAT WOULD YOU LIKE TO CHOSE?'))\n",
    "                if option==1:\n",
    "                    print('YOUR BALANCE IS', balance,'\\n')\n",
    "                    restart=input('WOULD YOU LIKE TO GO BACK?')\n",
    "                    if restart in ('n','no','NO','N'):\n",
    "                        print('THANK YOU')\n",
    "                        break\n",
    "                elif option==2:\n",
    "                    option2=('Y')\n",
    "                    withdrawal=float(input('HOW MUCH AMOUNT WOULD YOU LIKE TO WITHDRAW?'))\n",
    "                    if withdrawal in [10,20,40,60,80,100]:\n",
    "                     balance= balance-withdrawal\n",
    "                     print('\\nYOUR BALANCE IS NOW', balance)\n",
    "                     restart=input('WOULD YOU LIKE TO GO BACK?')\n",
    "                     if restart in  ('n','no','NO','N'):\n",
    "                        print('THANK YOU')\n",
    "                        break\n",
    "                    elif withdrawal != [10,20,40,60,80,100]:\n",
    "                        print('INVALID ACCOUNT ,PLEASE RE-TRY\\n')\n",
    "                        restart=('Y')\n",
    "                    elif withdrawal==1:\n",
    "                        withdrawal=float(input('PLEASE ENTER DESIRED AMOUNT:'))\n",
    "                elif option==3:\n",
    "                    pay_in=float(input('how much would you like to pay in?'))\n",
    "                    balance= balance + pay_in\n",
    "                    print('\\n YOUR BALANCE IS NOW', balance)\n",
    "                    restart=input('WOULD YOU LIKE TO GO BACK?')\n",
    "                    if restart in  ('n','no','NO','N'):\n",
    "                        print('THANK YOU')\n",
    "                        break\n",
    "                elif option==4:\n",
    "                    print('PLEASE ENTER A CORRECT NUMBER.....\\n')\n",
    "                    restart=('Y')\n",
    "                else: \n",
    "                    pin != ('1234')\n",
    "                    print('INCORRECT PASSWORD')\n",
    "                    chances=chances-1\n",
    "                    if chances == 0:\n",
    "                                print('\\nNO MORE TRIES')\n",
    "                                break\n",
    "                   "
   ]
  },
  {
   "cell_type": "code",
   "execution_count": null,
   "id": "b5e1fe81",
   "metadata": {},
   "outputs": [],
   "source": []
  }
 ],
 "metadata": {
  "kernelspec": {
   "display_name": "Python 3 (ipykernel)",
   "language": "python",
   "name": "python3"
  },
  "language_info": {
   "codemirror_mode": {
    "name": "ipython",
    "version": 3
   },
   "file_extension": ".py",
   "mimetype": "text/x-python",
   "name": "python",
   "nbconvert_exporter": "python",
   "pygments_lexer": "ipython3",
   "version": "3.11.3"
  }
 },
 "nbformat": 4,
 "nbformat_minor": 5
}
